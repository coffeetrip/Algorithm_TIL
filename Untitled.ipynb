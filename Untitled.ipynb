{
 "cells": [
  {
   "cell_type": "code",
   "execution_count": null,
   "metadata": {},
   "outputs": [],
   "source": [
    "n = int(input())\n",
    "arr = list(map(int, input().split()))\n",
    "\n",
    "for i in range(n-1, 0, -1):\n",
    "    for j in range(0, i):\n",
    "        if arr[j] > arr[j+1]:\n",
    "            arr[j],arr[j+1] = arr[j+1],arr[j]\n",
    "print(arr)"
   ]
  },
  {
   "cell_type": "code",
   "execution_count": null,
   "metadata": {},
   "outputs": [],
   "source": [
    "199\n",
    "85 72 38 80 69 65 68 96 22 49 67 51 61 63 87 66 24 80 83 71 60 64 52 90 60 49 31 23 99 94 11 25 24 51 15 13 39 67 97 19 76 12 33 99 18 92 35 74 0 95 71 39 33 39 32 37 45 57 71 95 5 71 24 86 8 51 54 74 24 75 70 33 63 29 99 59 94 52 13 35 99 46 57 71 23 17 3 94 48 77 18 83 11 83 25 59 62 2 78 86 7 94 65 80 32 39 84 60 65 72 61 58 84 8 72 12 19 47 49 49 59 71 52 34 22 21 20 92 33 80 39 74 9 28 97 100 93 29 25 4 66 79 81 98 21 91 62 82 4 59 100 34 1 51 80 92 69 77 39 38 97 51 34 35 19 22 1 67 9 90 31 82 11 51 84 78 70 74 42 100 88 53 80 57 62 32 51 48 63 92 46 4 61 31 98 69 52 88 20"
   ]
  },
  {
   "cell_type": "code",
   "execution_count": null,
   "metadata": {
    "scrolled": true
   },
   "outputs": [],
   "source": [
    "n = 5\n",
    "arr = [0, 1, 2, 3, 4]\n",
    "arr[4:5]\n",
    "\n",
    "temp = 0\n",
    "for i in range(n-1, 0, -1):  # 4 3 2 1\n",
    "    for j in range(0, i): # i-1번째까지\n",
    "        if arr[j] > arr[j+1]:\n",
    "            temp = arr[j]\n",
    "            arr[j] = arr[j+1]\n",
    "            arr[j+1] = temp\n",
    "print(arr)"
   ]
  },
  {
   "cell_type": "code",
   "execution_count": null,
   "metadata": {},
   "outputs": [],
   "source": [
    "t = int(input())\n",
    "for i in range(1, t + 1):\n",
    "    test = list(map(int, input().split()))\n",
    "    result = 0\n",
    "    for j in test:\n",
    "        result += j\n",
    "    print('# {} {:.0f}' .format(i, result/10))"
   ]
  },
  {
   "cell_type": "code",
   "execution_count": null,
   "metadata": {},
   "outputs": [],
   "source": [
    "t = int(input())\n",
    "for j in range(1, t+1):\n",
    "    test = list(map(int, input().split()))\n",
    "    max_index = 0\n",
    "    for i in range(len(test)):\n",
    "        if test[max_index] <= test[i]:\n",
    "            max_index = i\n",
    "    print(max_index + 1)"
   ]
  },
  {
   "cell_type": "code",
   "execution_count": null,
   "metadata": {},
   "outputs": [],
   "source": [
    "t = int(input())\n",
    "for i in range(1, t+1):\n",
    "    test = input()\n",
    "    \n",
    "    m1 = ['01', '03', '05', '07', '08', '10', '12']\n",
    "    m2 = ['04', '06', '09', '11']\n",
    "    if  (test[4:6] in m1) and 1 <= int(test[6:]) <= 31:\n",
    "        print(f'#{i} {test[0:4]}/{test[4:6]}/{test[6:8]}')\n",
    "    elif test[4:6] =='02' and 1 <= int(test[6:]) <= 28:\n",
    "        print(f'#{i} {test[0:4]}/{test[4:6]}/{test[6:8]}')\n",
    "    elif (test[4:6] in m2) and 1 <= int(test[6:]) <= 30:\n",
    "        print(f'#{i} {test[0:4]}/{test[4:6]}/{test[6:8]}')\n",
    "    else:\n",
    "        print(f'#{i} -1')"
   ]
  },
  {
   "cell_type": "code",
   "execution_count": null,
   "metadata": {},
   "outputs": [],
   "source": [
    "days = [0, 31, 28, 31, 30, 31, 30, 31, 31, 30, 31, 30, 31]\n",
    "for t in range(int(input())):\n",
    "    date = input()\n",
    "    res = -1\n",
    "    if int(date[4:6]) in range(1, 13):\n",
    "        idx = int(date[4:6])\n",
    "        if int(date[6:]) in range(1, days[idx]+1):\n",
    "            res = '{}/{}/{}'.format(date[:4], date[4:6], date[6:])\n",
    "    print('#{} {}'.format(t+1, res))"
   ]
  },
  {
   "cell_type": "code",
   "execution_count": null,
   "metadata": {},
   "outputs": [],
   "source": [
    "t = int(input())\n",
    "for i in range(1, t+1):\n",
    "    n = int(input())\n",
    "    a = list(map(int, input().split()))\n",
    "    \n",
    "    for j in range(n-1, 0, -1):\n",
    "        for k in range(0, j):\n",
    "            if a[k] > a[k+1]:\n",
    "                a[k],a[k+1] = a[k+1],a[k]\n",
    "    result = a[-1] - a[0]\n",
    "    print('#{} {}' .format(i, result))"
   ]
  },
  {
   "cell_type": "code",
   "execution_count": null,
   "metadata": {},
   "outputs": [],
   "source": [
    "t = int(input())\n",
    "for tc in range(1, t+1):\n",
    "    n = int(input())\n",
    "    num = input()\n",
    "    \n",
    "    card = [0] * 10 # 0~9까지 0리스트 만들기\n",
    "    for i in range(0, n):\n",
    "        v = int(num[i])\n",
    "        card[v] += 1  # 몇장인지\n",
    "        \n",
    "    maxidx = 0 \n",
    "    for i in range(0, 10): # 0~9까지의 카드\n",
    "        if card[maxidx] <= card[i]:  # 같은값도 바꿔야함\n",
    "            maxidx = i  # 카드 인덱스\n",
    "    print('#{} {} {}' .format(tc, maxidx, card[maxidx]))"
   ]
  },
  {
   "cell_type": "code",
   "execution_count": null,
   "metadata": {},
   "outputs": [],
   "source": [
    "t_count = int(input())\n",
    "for t in range(1, t_count+1):\n",
    "    n = int(input())\n",
    "    num = input()\n",
    "    \n",
    "    card = [0]*10\n",
    "    for i in range(0, n):\n",
    "        v = int(num[i])\n",
    "        card[v] += 1\n",
    "    print(card)\n",
    "    \n",
    "    card_max = 0\n",
    "    for j in range(0, 10):\n",
    "        if card[j] >= card[card_max]:\n",
    "            card_max = j\n",
    "    print('#{} {} {}' .format(t, card_max, card[card_max]))"
   ]
  },
  {
   "cell_type": "code",
   "execution_count": null,
   "metadata": {
    "scrolled": true
   },
   "outputs": [],
   "source": [
    "t = int(input())  \n",
    "for tc in range(1, t+1):\n",
    "    n, m = map(int, input().split()) \n",
    "    test = list(map(int, input().split()))        \n",
    "\n",
    "    test_sum=[]\n",
    "    for j in range(0, n-m+1):\n",
    "        t_sum = 0\n",
    "        for k in range(j, j+m):\n",
    "            t_sum += test[k]       \n",
    "        test_sum.append(t_sum)\n",
    "\n",
    "    for k in range(len(test_sum)-1, 0, -1):\n",
    "        for j in range(0, k):\n",
    "            if test_sum[j] > test_sum[j+1]:\n",
    "                test_sum[j],test_sum[j+1] = test_sum[j+1],test_sum[j]\n",
    "    result = test_sum[-1] - test_sum[0]\n",
    "    print('#{} {}' .format(tc, result))"
   ]
  },
  {
   "cell_type": "code",
   "execution_count": null,
   "metadata": {},
   "outputs": [],
   "source": []
  },
  {
   "cell_type": "code",
   "execution_count": null,
   "metadata": {},
   "outputs": [],
   "source": [
    "t = int(input())\n",
    "for tc in range(1, t+1):\n",
    "    max_move, station, charger = map(int, input().split())\n",
    "    station_number = list(map(int, input().split()))\n",
    "    for i in station_number:"
   ]
  },
  {
   "cell_type": "code",
   "execution_count": null,
   "metadata": {
    "scrolled": true
   },
   "outputs": [],
   "source": [
    "max_move, station, charger = 3, 10, 5\n",
    "station_number = [1, 3, 5, 7, 9]\n",
    "\n",
    "# 1. 정류장 번호를 인덱스로한 배열에 충전기 위치만 표시\n",
    "station_index = [0]*station\n",
    "for idx in station_number:\n",
    "    station_index[idx] += 1\n",
    "print(station_index)\n",
    "\n",
    "\n",
    "# 2. 정류장 번호 맨앞에 0을 추가\n",
    "station_new_number = [0]\n",
    "for sn in station_number:\n",
    "    station_new_number.append(sn)\n",
    "print(station_new_number)\n",
    "\n",
    "# stop[i] - stop[last] <= max_move 라면 i증가\n",
    "last = station_new_number[0]\n",
    "count = 0\n",
    "for i in range(1, charger):\n",
    "    sub_station = station_number[i] - station_number[last]\n",
    "    if sub_station <= max_move:\n",
    "        pass\n",
    "    else:\n",
    "        count += 1\n",
    "        last = station_new_number[count]\n",
    "print(count)"
   ]
  },
  {
   "cell_type": "code",
   "execution_count": null,
   "metadata": {},
   "outputs": [],
   "source": [
    "# 처음부터 종점을 포함해 도착 가능 여부를 확인하면?\n",
    "max_move, station, charger = 3, 10, 5\n",
    "station_number = [1, 3, 5, 7, 9]\n",
    "\n",
    "# 1. 정류장 번호를 인덱스로한 배열에 충전기 위치만 표시\n",
    "station_index = [0]*station\n",
    "for idx in station_number:\n",
    "    station_index[idx] += 1\n",
    "print(station_index)\n",
    "\n",
    "\n",
    "# 2. 정류장 번호 맨앞에 0을 추가\n",
    "station_new_number = [0]\n",
    "for sn in station_number:\n",
    "    station_new_number.append(sn)\n",
    "staion_new_number.append(10)\n",
    "print(station_new_number)\n",
    "\n",
    "# stop[i] - stop[last] <= max_move 라면 i증가\n",
    "sub_station = 0\n",
    "last = 0\n",
    "count = 0\n",
    "for i in range(1, charger):\n",
    "    sub_station = station_number[i] - station_number[last]\n",
    "    if sub_station <= max_move:\n",
    "        last = i-1\n",
    "        count += 1\n",
    "    else:\n",
    "        last += i"
   ]
  },
  {
   "cell_type": "code",
   "execution_count": null,
   "metadata": {},
   "outputs": [],
   "source": [
    "arr = [[0,1,2,3],[4,5,6,7]]\n",
    "for i in range(len(arr)):\n",
    "    for j in range(len(arr[0])):\n",
    "        print(arr[i][j])\n"
   ]
  },
  {
   "cell_type": "code",
   "execution_count": null,
   "metadata": {},
   "outputs": [],
   "source": [
    "arr=[[1,2,3],[4,5,6],[7,8,9]]\n",
    "for i in range(len(arr)):\n",
    "    rk = 0\n",
    "    for j in range(len(arr[i])):\n",
    "        rk += arr[i][j]\n",
    "    print(rk)\n",
    "    \n",
    "for j in range(len(arr)):\n",
    "    tp = 0\n",
    "    for i in range(len(arr[j])):\n",
    "        tp += arr[i][j]\n",
    "    print(tp)"
   ]
  },
  {
   "cell_type": "code",
   "execution_count": null,
   "metadata": {},
   "outputs": [],
   "source": [
    "arr=[[1,2,3],[4,5,6],[7,8,9]]\n",
    "\n",
    "for i in range(3):\n",
    "    for j in range(3):\n",
    "        if i < j:\n",
    "            arr[i][j],arr[j][i] = arr[j][i],arr[i][j]\n",
    "print(arr)"
   ]
  },
  {
   "cell_type": "code",
   "execution_count": null,
   "metadata": {},
   "outputs": [],
   "source": [
    "arr = [[1,2,3,4],[5,6,7,8],[9,10,11,12]]\n",
    "\n",
    "for i in range(len(arr)):\n",
    "    rk = 0\n",
    "    for j in range(len(arr[i])):\n",
    "        rk += arr[i][j]\n",
    "    print(rk)\n",
    "\n",
    "for i in range(len(arr[0])):\n",
    "    tp = 0\n",
    "    for j in range(len(arr)):\n",
    "        tp += arr[j][i]\n",
    "    print(tp)"
   ]
  },
  {
   "cell_type": "code",
   "execution_count": null,
   "metadata": {},
   "outputs": [],
   "source": [
    "arr = [[1,2,3,4],[5,6,7,8],[9,10,11,12]]\n",
    "n = 3\n",
    "m = 4\n",
    "\n",
    "for i in range(n):\n",
    "    rk = 0\n",
    "    for j in range(m):\n",
    "        rk += arr[i][j]\n",
    "    print(rk)\n",
    "for i in range(m):\n",
    "    tp = 0\n",
    "    for j in range(n):\n",
    "        tp += arr[j][i]\n",
    "    print(tp)"
   ]
  },
  {
   "cell_type": "code",
   "execution_count": null,
   "metadata": {},
   "outputs": [],
   "source": [
    "n,m = map(int, input().split())\n",
    "arr = [list(map(int, input().split())) for i in range(n)]"
   ]
  },
  {
   "cell_type": "code",
   "execution_count": null,
   "metadata": {},
   "outputs": [],
   "source": [
    "arr = [[0]*4 for i in range(4)]\n",
    "\n",
    "\n",
    "for i in range(4):\n",
    "    #k = 1\n",
    "    for j in range(4):\n",
    "        if i<j:\n",
    "            arr[i][j] = 1\n",
    "\n",
    "k = 1\n",
    "for i in range(4):\n",
    "    for j in range(4):\n",
    "        if i>j:\n",
    "            arr[i][j] = k\n",
    "            k += 1\n",
    "\n",
    "print(arr)"
   ]
  },
  {
   "cell_type": "code",
   "execution_count": null,
   "metadata": {},
   "outputs": [],
   "source": [
    "arr = [[0]*5 for i in range(5)]\n",
    "k = 1\n",
    "for i in range(0, 5):\n",
    "    for j in range(0, 5):\n",
    "        arr[i][j] = k\n",
    "        k = k + 1\n",
    "print(arr)    \n",
    "# 모든 칸의 이웃을 출력\n",
    "for i in range(0, 5):\n",
    "    for j in range(0, 5):\n",
    "        if j + 1 <= 4:  # 오른쪽 칸이 존재하면\n",
    "            print(arr[i][j+1], end=\" \")\n",
    "        if i + 1 <= 4:  # 아래 칸이 존재하면\n",
    "            print(arr[i+1][j], end=\" \")\n",
    "        if j - 1 >= 0:  # 왼쪽 칸이 존재하면\n",
    "            print(arr[i][j-1], end=\" \")\n",
    "        if i - 1 >= 0:  # 위쪽 칸이 존재하면\n",
    "            print(arr[i-1][j], end=\" \")\n",
    "        print()"
   ]
  },
  {
   "cell_type": "code",
   "execution_count": null,
   "metadata": {},
   "outputs": [],
   "source": [
    "arr = [1, 2, 3]\n",
    "bit = [0, 0, 0]\n",
    "\n",
    "for i in range(2):\n",
    "    bit[0] = i\n",
    "    for j in range(2):\n",
    "        bit[1] = j\n",
    "        for k in range(2):\n",
    "            bit[2] = k\n",
    "            print(bit)\n",
    "            for m in range(3):\n",
    "                if bit[m] != 0:  # m번 원소가 부분집합에 포함되면\n",
    "                    print(arr[m], end=' ')\n",
    "            print()"
   ]
  },
  {
   "cell_type": "code",
   "execution_count": null,
   "metadata": {
    "scrolled": true
   },
   "outputs": [],
   "source": [
    "word = \"ADCBBBBCABBCBDACBDCAACDDDCAABABDBCBCBDBDBDDABBAAAAAAADADBDBCBDABADCADC\"\n",
    "\n",
    "result = 0\n",
    "for i in list(map(lambda x:4 if x =='A' else 3 if x=='B' else 2 if x=='C' else 1, word)):\n",
    "    result += i\n",
    "print(result)"
   ]
  },
  {
   "cell_type": "code",
   "execution_count": null,
   "metadata": {},
   "outputs": [],
   "source": [
    "score = [4 if char == 'A' else 3 if char == 'B' else 2 if char == 'C' else 1 for char in string]"
   ]
  },
  {
   "cell_type": "code",
   "execution_count": null,
   "metadata": {},
   "outputs": [],
   "source": [
    "num = [2, 4, 6, 8, 10]\n",
    "find_num = [5, 10]\n",
    "print(num)\n",
    "\n",
    "for i in range(len(find_num)):\n",
    "    if find_num[i] in num: \n",
    "        print(f'{find_num[i]} => True')\n",
    "    else:\n",
    "        print(f'{find_num[i]} => False')"
   ]
  },
  {
   "cell_type": "code",
   "execution_count": null,
   "metadata": {},
   "outputs": [],
   "source": [
    "num = input()\n",
    "for i in range(10):\n",
    "    if i < 9:\n",
    "        print(i, end=\" \")\n",
    "    else:\n",
    "        print(i)\n",
    "\n",
    "num_count = [0]*10\n",
    "for idx in num:\n",
    "    num_count[int(idx)] += 1\n",
    "\n",
    "for count in range(10):\n",
    "    if count < 9:\n",
    "        print(num_count[count], end=\" \")\n",
    "    else:\n",
    "        print(num_count[count])"
   ]
  },
  {
   "cell_type": "code",
   "execution_count": null,
   "metadata": {},
   "outputs": [],
   "source": [
    "def square(a):\n",
    "    return f'square({a}) => {a**2}'\n",
    "    \n",
    "    \n",
    "    \n",
    "for i in list(map(int, input().split(','))):\n",
    "    print(square(i))"
   ]
  },
  {
   "cell_type": "code",
   "execution_count": null,
   "metadata": {},
   "outputs": [],
   "source": [
    "test_number = int(input())\n"
   ]
  },
  {
   "cell_type": "code",
   "execution_count": null,
   "metadata": {},
   "outputs": [],
   "source": [
    "for tc in range(1, 11):\n",
    "    t= input()\n",
    "    N = 100\n",
    "    arr = [list(map(int, input().split())) for i in range(N)]\n",
    "\n",
    "    arr_list = []\n",
    "    arr_x = 0\n",
    "    for i in range(len(arr)):\n",
    "        arr_col = 0\n",
    "        arr_row = 0\n",
    "        for j in range(len(arr[i])):\n",
    "            arr_col += arr[i][j]\n",
    "            arr_row += arr[j][i]\n",
    "            arr_x += arr[i][i]\n",
    "        arr_list.append(arr_col)\n",
    "        arr_list.append(arr_row)   \n",
    "    arr_x = 0\n",
    "    for i in range(len(arr)):\n",
    "        arr_x += arr[i][i]\n",
    "    arr_list.append(arr_x)\n",
    "\n",
    "    arr_y = 0\n",
    "    for i in range(len(arr)):\n",
    "        arr_y += arr[i][len(arr)-i-1]\n",
    "    arr_list.append(arr_y)\n",
    "    print(f'#{tc} {max(arr_list)}')"
   ]
  },
  {
   "cell_type": "code",
   "execution_count": null,
   "metadata": {},
   "outputs": [],
   "source": [
    "for tc in range(1, 11):\n",
    "    t= input()\n",
    "    N = 100\n",
    "    arr = [list(map(int, input().split())) for i in range(N)]\n",
    " \n",
    "    maxValue = 0\n",
    " \n",
    "    for row in arr:\n",
    "        if sum(row) > maxValue:\n",
    "            maxValue = sum(row)\n",
    " \n",
    "    for i in range(N):\n",
    "        total = 0\n",
    "        for j in range(N):\n",
    "            total += arr[j][i]\n",
    " \n",
    "        if total > maxValue:\n",
    "            maxValue = total\n",
    " \n",
    "    d1 = 0\n",
    "    for i in range(N):\n",
    "        d1 += arr[i][i]\n",
    " \n",
    "    if d1 > maxValue:\n",
    "        maxValue = d1\n",
    " \n",
    "    d2 = 0\n",
    "    for i in range(N):\n",
    "        d2 += arr[i][N-1-i]\n",
    " \n",
    "    if d2 > maxValue:\n",
    "        maxValue = d2\n",
    " \n",
    "    print(f\"#{tc} {maxValue}\")"
   ]
  },
  {
   "cell_type": "code",
   "execution_count": null,
   "metadata": {},
   "outputs": [],
   "source": [
    "test_number = int(input())\n",
    "\n",
    "for i in range(test_number):\n",
    "    word = input()\n",
    "    reverse_word = ''\n",
    "    for j in word[::-1]:\n",
    "        reverse_word += j\n",
    "    if word == reverse_word:\n",
    "        print(f'#{i+1} 1')\n",
    "    else:\n",
    "        print(f'#{i+1} 0')"
   ]
  },
  {
   "cell_type": "code",
   "execution_count": null,
   "metadata": {},
   "outputs": [],
   "source": [
    "test_number = int(input())\n",
    "\n",
    "for tc in range(test_number):\n",
    "    a1,b1,a2,b2 = map(int, input().split())\n",
    "    if a1 + a2 > 12:\n",
    "        hour = a1+a2 -12\n",
    "    else:\n",
    "        hour = a1 + a2\n",
    "    if b1 + b2 > 60:\n",
    "        min = b1+b2 - 60\n",
    "        hour += 1\n",
    "    else:\n",
    "        min = b1 + b2\n",
    "    print(f'#{tc+1} {hour} {min}')"
   ]
  },
  {
   "cell_type": "code",
   "execution_count": null,
   "metadata": {},
   "outputs": [],
   "source": [
    "word = list(map(str,input().split(', ')))\n",
    "\n",
    "if len(word[0]) > len(word[1]):\n",
    "    print(word[0])\n",
    "else:\n",
    "    print(word[1])"
   ]
  },
  {
   "cell_type": "code",
   "execution_count": null,
   "metadata": {},
   "outputs": [],
   "source": [
    "def countdown(num):\n",
    "    if num <= 0:\n",
    "        print('카운트다운을 하려면 0보다 큰 입력이 필요합니다.')\n",
    "    for i in range(num,0,-1):\n",
    "        print(i)\n",
    "    \n",
    "countdown(0)\n",
    "countdown(10)"
   ]
  },
  {
   "cell_type": "code",
   "execution_count": null,
   "metadata": {},
   "outputs": [],
   "source": [
    "name = input()\n",
    "age = int(input())\n",
    "age100 = 100 - age\n",
    "print('{}(은)는 {}년에 100세가 될 것입니다.' .format(name, 2019+age100))"
   ]
  },
  {
   "cell_type": "code",
   "execution_count": null,
   "metadata": {},
   "outputs": [],
   "source": [
    "s = input()\n",
    "print(s)\n",
    "s = input().split()\n",
    "print(s)\n",
    "s = list(input())\n",
    "print(s)"
   ]
  },
  {
   "cell_type": "code",
   "execution_count": null,
   "metadata": {},
   "outputs": [],
   "source": [
    "s = input()\n",
    "print(s)\n",
    "reverse_s = s[::-1]\n",
    "print(reverse_s)"
   ]
  },
  {
   "cell_type": "code",
   "execution_count": null,
   "metadata": {},
   "outputs": [],
   "source": [
    "s = list(input())  # 'ABCD' => 'A', 'B', 'C', 'D'\n",
    "# 'A' <-> 'D', 'B' <-> 'D' :  총 교환 횟수는 글자수//2\n",
    "for i in range(0,len(s)//2):  # 4//2 -> 2회, 인덱스 0,1\n",
    "    s[i],s[len(s)-1-i] = s[len(s)-1-i],s[i]\n",
    "# for j in range(0, len(s)):\n",
    "#     print(s[j], end=\"\")\n",
    "print(''.join(s))"
   ]
  },
  {
   "cell_type": "code",
   "execution_count": null,
   "metadata": {
    "scrolled": true
   },
   "outputs": [],
   "source": [
    "def f(s1,s2):\n",
    "    i = 0  # 비교할 글자의 인덱스\n",
    "    while(i < len(s1) and i < len(s2)):  # 어느 문자열의 끝이 아니고\n",
    "        if s1[i] == s2[i]:\n",
    "            i += 1\n",
    "        else:\n",
    "            break\n",
    "    if i == len(s1) and i == len(s2):  # 마지막 글자까지 같고 동시에 종료\n",
    "        return 1\n",
    "    else:\n",
    "        return 0\n",
    "        \n",
    "s1 = input()\n",
    "s2 = input()\n",
    "    \n",
    "print(f(s1,s2))"
   ]
  },
  {
   "cell_type": "code",
   "execution_count": null,
   "metadata": {},
   "outputs": [],
   "source": [
    "def atoi(s):  # '123' -> 123 : '1' -> 1 -> 100\n",
    "    n = 0\n",
    "    for i in range(0, len(s)):\n",
    "        n = n * 10 \n",
    "        #n = n + int(s[i]) \n",
    "        n = n + ord(s[i]) - ord('0')\n",
    "    return n\n",
    "\n",
    "s = input()   # '123'\n",
    "r = atoi(s)\n",
    "print(r)"
   ]
  },
  {
   "cell_type": "code",
   "execution_count": null,
   "metadata": {},
   "outputs": [],
   "source": [
    "asc = int(input())\n",
    "print('ASCII {} => {}' .format(asc, chr(asc)))"
   ]
  },
  {
   "cell_type": "code",
   "execution_count": null,
   "metadata": {},
   "outputs": [],
   "source": [
    "s1 = 'abc 1, 2, ABC'\n",
    "s = ''\n",
    "for i in range(0, len(s1)):\n",
    "    if s1[i] == '1':\n",
    "        s += 'one'\n",
    "    elif s1[i] == '2':\n",
    "        s += 'two'\n",
    "    else:\n",
    "        s += s1[i]\n",
    "print(s)"
   ]
  },
  {
   "cell_type": "code",
   "execution_count": null,
   "metadata": {},
   "outputs": [],
   "source": [
    "# 회문인가?\n",
    "S1 = 'ABBA'\n",
    "S2 = 'ABCA'\n",
    "# 길이가 5인 회문이 존재하는가?\n",
    "# 길이가 4인 회문이 존재하는가?\n",
    "# 길이가 3인 회문이 존재하는가?\n",
    "s1 = 'CDABCBA'"
   ]
  },
  {
   "cell_type": "code",
   "execution_count": null,
   "metadata": {},
   "outputs": [],
   "source": [
    "test_number = int(input())\n",
    "for tc in range(test_number):\n",
    "    str1 = input()  #  짧음\n",
    "    str2 = input()  # 김\n",
    "    \n",
    "    str1_idx = 0\n",
    "    str2_idx = 0\n",
    "    while str1_idx < len(str1) and str2_idx < len(str2):\n",
    "        if str2[str2_idx] != str1[str1_idx]:\n",
    "            str2_idx = str2_idx - str1_idx\n",
    "            str1_idx = -1\n",
    "        str2_idx = str2_idx + 1\n",
    "        str1_idx = str1_idx + 1\n",
    "        \n",
    "    if str1_idx == len(str1):\n",
    "        print('#{} 1' .format(tc+1))\n",
    "    else:\n",
    "        print('#{} 0' .format(tc+1))"
   ]
  },
  {
   "cell_type": "code",
   "execution_count": 6,
   "metadata": {},
   "outputs": [
    {
     "name": "stdout",
     "output_type": "stream",
     "text": [
      "3\n",
      "XYPV\n",
      "EOGGXYPVSY\n",
      "#1 2\n",
      "STJJ\n",
      "HOFSTJPVPP\n",
      "#2 1\n",
      "ZYJZXZTIBSDG\n",
      "TTXGZYJZXZTIBSDGWQLW\n",
      "#3 3\n"
     ]
    }
   ],
   "source": [
    "test_case = int(input())\n",
    "for tc in range(test_case):\n",
    "    str1 = input()\n",
    "    str2 = input()\n",
    "    \n",
    "    str1_dict = {}\n",
    "    for i in str1:\n",
    "        str1_dict[i] = 0\n",
    "\n",
    "    \n",
    "    for j in str2:\n",
    "        for k in str1_dict:\n",
    "            if j == k:\n",
    "                str1_dict[j] += 1\n",
    "    \n",
    "    dict_value = []\n",
    "    for idx, value in str1_dict.items():\n",
    "        dict_value.append(value)\n",
    "    result = max(dict_value)\n",
    "    print('#{} {}' .format(tc+1, result))"
   ]
  },
  {
   "cell_type": "code",
   "execution_count": 41,
   "metadata": {},
   "outputs": [
    {
     "name": "stdout",
     "output_type": "stream",
     "text": [
      "1\n",
      "20 13\n",
      "ECFQBKSYBBOSZQSFBXKI\n",
      "VBOAIDLYEXYMNGLLIOPP\n",
      "AIZMTVJBZAWSJEIGAKWB\n",
      "CABLQKMRFNBINNZSOGNT\n",
      "NQLMHYUMBOCSZWIOBINM\n",
      "QJZQPSOMNQELBPLVXNRN\n",
      "RHMDWPBHDAMWROUFTPYH\n",
      "FNERUGIFZNLJSSATGFHF\n",
      "TUIAXPMHFKDLQLNYQBPW\n",
      "OPIRADJURRDLTDKZGOGA\n",
      "JHYXHBQTLMMHOOOHMMLT\n",
      "XXCNJGTXXKUCVOUYNXZR\n",
      "RMWTQQFHZUIGCJBASNOX\n",
      "CVODFKWMJSGMFTCSLLWO\n",
      "EJISQCXLNQHEIXXZSGKG\n",
      "KGVFJLNNBTVXJLFXPOZA\n",
      "YUNDJDSSOPRVSLLHGKGZ\n",
      "OZVTWRYWRFIAIPEYRFFG\n",
      "ERAPUWPSHHKSWCTBAPXR\n",
      "FIKQJTQDYLGMMWMEGRUZ\n"
     ]
    }
   ],
   "source": [
    "test_number = int(input())\n",
    "for tc in range(test_number):\n",
    "    N, M = map(int, input().split())  # NXN, M:글자길이\n",
    "    arr = [list(input()) for i in range(N)]\n",
    "\n",
    "    new_list = []\n",
    "    for i in range(len(arr)):\n",
    "        arr_col = ''\n",
    "        arr_row = ''\n",
    "        for j in range(len(arr[0])):\n",
    "            arr_col += arr[i][j]\n",
    "            arr_row += arr[j][i]\n",
    "        new_list.append(arr_col)\n",
    "        new_list.append(arr_row)\n",
    "\n",
    "    for mew in new_list:\n",
    "        if new == new[::-1]:\n",
    "            print('#{} {}' .format(tc+1,new))"
   ]
  },
  {
   "cell_type": "code",
   "execution_count": 7,
   "metadata": {},
   "outputs": [
    {
     "name": "stdout",
     "output_type": "stream",
     "text": [
      "a: 0\n",
      "b: 1\n",
      "c: 2\n",
      "d: 3\n",
      "e: 4\n",
      "f: 5\n"
     ]
    }
   ],
   "source": [
    "word = 'abcdef'\n",
    "\n",
    "word_dict = {}\n",
    "for i in range(len(word)):\n",
    "    word_dict[word[i]] = 0\n",
    "    word_dict[word[i]] = i\n",
    "\n",
    "for key,value in word_dict.items():\n",
    "    print('{}: {}' .format(key, value))"
   ]
  },
  {
   "cell_type": "code",
   "execution_count": 13,
   "metadata": {},
   "outputs": [
    {
     "name": "stdout",
     "output_type": "stream",
     "text": [
      "max(3, 5, 4, 1, 8, 10, 2) => 10\n"
     ]
    }
   ],
   "source": [
    "def max_find(a):\n",
    "    max_num = a[0]\n",
    "    for i in range(len(a)):\n",
    "        if max_num < a[i]:\n",
    "            max_num = a[i]\n",
    "    return max_num\n",
    "\n",
    "num_list = [3,5,4,1,8,10,2]\n",
    "print('max(3, 5, 4, 1, 8, 10, 2) => {}' .format(max_find(num_list)))"
   ]
  },
  {
   "cell_type": "code",
   "execution_count": 26,
   "metadata": {},
   "outputs": [
    {
     "name": "stdout",
     "output_type": "stream",
     "text": [
      "[4, 16, 36, 64, 100]\n"
     ]
    }
   ],
   "source": [
    "num_list = []\n",
    "for i in range(1,11):\n",
    "    num_list.append(i)\n",
    "\n",
    "result = list(filter(lambda x:x%2==0 , num_list))\n",
    "print(list(map(lambda x:x**2, result)))"
   ]
  },
  {
   "cell_type": "code",
   "execution_count": 28,
   "metadata": {},
   "outputs": [
    {
     "name": "stdout",
     "output_type": "stream",
     "text": [
      "[1, 4, 9, 16, 25, 36, 49, 64, 81, 100]\n"
     ]
    }
   ],
   "source": [
    "num_list = []\n",
    "for i in range(1,11):\n",
    "    num_list.append(i)\n",
    "print(list(map(lambda x:x**2, num_list)))"
   ]
  },
  {
   "cell_type": "code",
   "execution_count": 29,
   "metadata": {},
   "outputs": [
    {
     "name": "stdout",
     "output_type": "stream",
     "text": [
      "[2, 4, 6, 8, 10]\n"
     ]
    }
   ],
   "source": [
    "num_list = []\n",
    "for i in range(1,11):\n",
    "    num_list.append(i)\n",
    "print(list(filter(lambda x:x%2==0, num_list)))"
   ]
  },
  {
   "cell_type": "code",
   "execution_count": 34,
   "metadata": {},
   "outputs": [
    {
     "name": "stdout",
     "output_type": "stream",
     "text": [
      "10\n",
      "[1, 1, 2, 3, 5, 8, 13, 21, 34, 55]\n"
     ]
    }
   ],
   "source": [
    "def fibonacci(num):\n",
    "    answer = [1,1]    \n",
    "    for i in range(2,num):\n",
    "        answer.append(answer[i-1]+answer[i-2])\n",
    "    return answer\n",
    "\n",
    "print(fibonacci(int(input())))"
   ]
  },
  {
   "cell_type": "code",
   "execution_count": 37,
   "metadata": {},
   "outputs": [
    {
     "name": "stdout",
     "output_type": "stream",
     "text": [
      "1번 학생의 총점은 170점이고, 평균은 85.0입니다.\n",
      "2번 학생의 총점은 160점이고, 평균은 80.0입니다.\n",
      "3번 학생의 총점은 190점이고, 평균은 95.0입니다.\n"
     ]
    }
   ],
   "source": [
    "student1 = (90,80)\n",
    "student2 = (85,75)\n",
    "student3 = (90,100)\n",
    "\n",
    "print('1번 학생의 총점은 {}점이고, 평균은 {}입니다.' .format(sum(student1),sum(student1)/2))\n",
    "print('2번 학생의 총점은 {}점이고, 평균은 {}입니다.' .format(sum(student2),sum(student2)/2))\n",
    "print('3번 학생의 총점은 {}점이고, 평균은 {}입니다.' .format(sum(student3),sum(student3)/2))"
   ]
  },
  {
   "cell_type": "code",
   "execution_count": 48,
   "metadata": {},
   "outputs": [
    {
     "name": "stdout",
     "output_type": "stream",
     "text": [
      "[[2, 4, 8, 10, 16], [], [4, 8, 16, 20, 32], [5, 10, 20, 25, 40], [], [], [8, 16, 32, 40, 64], []]\n"
     ]
    }
   ],
   "source": [
    "final_list = []\n",
    "for i in range(2,10):\n",
    "    result = []\n",
    "    for j in range(1,10):\n",
    "        if i*j % 3 ==0 or i*j % 7 == 0:\n",
    "            pass\n",
    "        else:\n",
    "            result.append(i*j)\n",
    "    final_list.append(result)\n",
    "print(final_list)"
   ]
  },
  {
   "cell_type": "code",
   "execution_count": 62,
   "metadata": {},
   "outputs": [
    {
     "name": "stdout",
     "output_type": "stream",
     "text": [
      "10\n",
      "10\n",
      "20\n",
      "30\n",
      "40\n",
      "입력된 값 [10, 10, 20, 30, 40]의 평균은 22.0입니다.\n"
     ]
    }
   ],
   "source": [
    "num_list = []\n",
    "for i in range(5):\n",
    "    num = int(input())\n",
    "    num_list.append(num)\n",
    "\n",
    "\n",
    "num_sum = [i for i in num_list]\n",
    "result = sum(num_sum)/len(num_list)\n",
    "print('입력된 값 {}의 평균은 {}입니다.' .format(num_list,result))\n"
   ]
  },
  {
   "cell_type": "code",
   "execution_count": 58,
   "metadata": {},
   "outputs": [
    {
     "name": "stdout",
     "output_type": "stream",
     "text": [
      "12\n",
      "[1, 2, 3, 4, 6, 12]\n"
     ]
    }
   ],
   "source": [
    "num = int(input())\n",
    "num_list = []\n",
    "for i in range(1, num+1):\n",
    "    if num % i == 0:\n",
    "        num_list.append(i)\n",
    "print(num_list)"
   ]
  },
  {
   "cell_type": "code",
   "execution_count": 59,
   "metadata": {},
   "outputs": [
    {
     "name": "stdout",
     "output_type": "stream",
     "text": [
      "32\n",
      "[1, 2, 4, 8, 16, 32]\n"
     ]
    }
   ],
   "source": [
    "num = int(input())\n",
    "num_list = [i for i in range(1,num+1) if num%i==0]\n",
    "print(num_list)"
   ]
  },
  {
   "cell_type": "code",
   "execution_count": 63,
   "metadata": {},
   "outputs": [
    {
     "name": "stdout",
     "output_type": "stream",
     "text": [
      "[28, 52, 100]\n"
     ]
    }
   ],
   "source": [
    "arr = [1, 3, 11, 15, 23, 28, 37, 52, 85, 100]\n",
    "new_arr = []\n",
    "for i in arr:\n",
    "    if not i%2:\n",
    "        new_arr.append(i)\n",
    "print(new_arr)"
   ]
  },
  {
   "cell_type": "code",
   "execution_count": 73,
   "metadata": {},
   "outputs": [
    {
     "ename": "IndexError",
     "evalue": "list index out of range",
     "output_type": "error",
     "traceback": [
      "\u001b[1;31m---------------------------------------------------------------------------\u001b[0m",
      "\u001b[1;31mIndexError\u001b[0m                                Traceback (most recent call last)",
      "\u001b[1;32m<ipython-input-73-437ce39cbb44>\u001b[0m in \u001b[0;36m<module>\u001b[1;34m\u001b[0m\n\u001b[0;32m      1\u001b[0m \u001b[0manswer\u001b[0m \u001b[1;33m=\u001b[0m \u001b[1;33m[\u001b[0m\u001b[1;36m1\u001b[0m\u001b[1;33m,\u001b[0m\u001b[1;36m1\u001b[0m\u001b[1;33m]\u001b[0m\u001b[1;33m\u001b[0m\u001b[1;33m\u001b[0m\u001b[0m\n\u001b[1;32m----> 2\u001b[1;33m \u001b[0manswer\u001b[0m \u001b[1;33m=\u001b[0m \u001b[1;33m[\u001b[0m\u001b[0manswer\u001b[0m\u001b[1;33m[\u001b[0m\u001b[0mi\u001b[0m\u001b[1;33m-\u001b[0m\u001b[1;36m1\u001b[0m\u001b[1;33m]\u001b[0m\u001b[1;33m+\u001b[0m\u001b[0manswer\u001b[0m\u001b[1;33m[\u001b[0m\u001b[0mi\u001b[0m\u001b[1;33m]\u001b[0m \u001b[1;32mfor\u001b[0m \u001b[0mi\u001b[0m \u001b[1;32min\u001b[0m \u001b[0mrange\u001b[0m\u001b[1;33m(\u001b[0m\u001b[1;36m2\u001b[0m\u001b[1;33m,\u001b[0m\u001b[1;36m10\u001b[0m\u001b[1;33m)\u001b[0m\u001b[1;33m]\u001b[0m\u001b[1;33m\u001b[0m\u001b[1;33m\u001b[0m\u001b[0m\n\u001b[0m\u001b[0;32m      3\u001b[0m \u001b[0mprint\u001b[0m\u001b[1;33m(\u001b[0m\u001b[0manswer\u001b[0m\u001b[1;33m)\u001b[0m\u001b[1;33m\u001b[0m\u001b[1;33m\u001b[0m\u001b[0m\n",
      "\u001b[1;32m<ipython-input-73-437ce39cbb44>\u001b[0m in \u001b[0;36m<listcomp>\u001b[1;34m(.0)\u001b[0m\n\u001b[0;32m      1\u001b[0m \u001b[0manswer\u001b[0m \u001b[1;33m=\u001b[0m \u001b[1;33m[\u001b[0m\u001b[1;36m1\u001b[0m\u001b[1;33m,\u001b[0m\u001b[1;36m1\u001b[0m\u001b[1;33m]\u001b[0m\u001b[1;33m\u001b[0m\u001b[1;33m\u001b[0m\u001b[0m\n\u001b[1;32m----> 2\u001b[1;33m \u001b[0manswer\u001b[0m \u001b[1;33m=\u001b[0m \u001b[1;33m[\u001b[0m\u001b[0manswer\u001b[0m\u001b[1;33m[\u001b[0m\u001b[0mi\u001b[0m\u001b[1;33m-\u001b[0m\u001b[1;36m1\u001b[0m\u001b[1;33m]\u001b[0m\u001b[1;33m+\u001b[0m\u001b[0manswer\u001b[0m\u001b[1;33m[\u001b[0m\u001b[0mi\u001b[0m\u001b[1;33m]\u001b[0m \u001b[1;32mfor\u001b[0m \u001b[0mi\u001b[0m \u001b[1;32min\u001b[0m \u001b[0mrange\u001b[0m\u001b[1;33m(\u001b[0m\u001b[1;36m2\u001b[0m\u001b[1;33m,\u001b[0m\u001b[1;36m10\u001b[0m\u001b[1;33m)\u001b[0m\u001b[1;33m]\u001b[0m\u001b[1;33m\u001b[0m\u001b[1;33m\u001b[0m\u001b[0m\n\u001b[0m\u001b[0;32m      3\u001b[0m \u001b[0mprint\u001b[0m\u001b[1;33m(\u001b[0m\u001b[0manswer\u001b[0m\u001b[1;33m)\u001b[0m\u001b[1;33m\u001b[0m\u001b[1;33m\u001b[0m\u001b[0m\n",
      "\u001b[1;31mIndexError\u001b[0m: list index out of range"
     ]
    }
   ],
   "source": [
    "answer = [1,1] \n",
    "answer = [answer[i-2]+answer[i-1] for i in range(2,10)]\n",
    "print(answer)"
   ]
  },
  {
   "cell_type": "code",
   "execution_count": 76,
   "metadata": {},
   "outputs": [
    {
     "name": "stdout",
     "output_type": "stream",
     "text": [
      "[1, 4, 9, 16, 25, 36, 49, 64, 81, 100, 121, 144, 169, 196, 256, 289, 324, 361, 400]\n"
     ]
    }
   ],
   "source": [
    "num_list = [i**2 for i in range(1,21) if not i%3==0 or not i%5==0]\n",
    "print(num_list)"
   ]
  },
  {
   "cell_type": "code",
   "execution_count": 77,
   "metadata": {},
   "outputs": [
    {
     "name": "stdout",
     "output_type": "stream",
     "text": [
      "12345\n",
      "15\n"
     ]
    }
   ],
   "source": [
    "num = int(input())\n",
    "num_sum = 0\n",
    "for i in str(num):\n",
    "    num_sum += int(i)\n",
    "print(num_sum)"
   ]
  },
  {
   "cell_type": "code",
   "execution_count": null,
   "metadata": {},
   "outputs": [],
   "source": [
    "dicBase = (('가','깋'), ('나','닣'), ('다','딯'), ('라','맇'), ('마','밓'), ('바','빟'), ('사','싷'), ('아','잏'), ('자','짛'), ('차','칳'), ('카','킿'), ('타','팋'), ('파','핗'), ('하','힣'))\n",
    "inputWord = ['막', '부모님', '비용', '비행기', '원래', '처리', '최초', '꼴', '좀', '들다', '싶다', '수출', '계시다', '다', '뒤', '듣다', '함께', '아이', '무척', '보이다', '가지다', '그', '자르다', '데리다', '마리', '개', '정도', '옳다', '놀이','뜨겁다']\n",
    "\n"
   ]
  },
  {
   "cell_type": "code",
   "execution_count": 79,
   "metadata": {},
   "outputs": [
    {
     "name": "stdout",
     "output_type": "stream",
     "text": [
      "madam\n",
      "madam\n",
      "입력하신 단어는 회문(Palindrome)입니다.\n"
     ]
    }
   ],
   "source": [
    "word = input()\n",
    "if word == word[::-1]:\n",
    "    print(word[::-1])\n",
    "    print('입력하신 단어는 회문(Palindrome)입니다.')"
   ]
  },
  {
   "cell_type": "code",
   "execution_count": 86,
   "metadata": {},
   "outputs": [
    {
     "name": "stdout",
     "output_type": "stream",
     "text": [
      "A better tomorrow\n",
      "tomorrow better A \n"
     ]
    }
   ],
   "source": [
    "word = list(input().split())\n",
    "new_word = ''\n",
    "for i in word[::-1]:\n",
    "    new_word += i + ' '\n",
    "print(new_word)"
   ]
  },
  {
   "cell_type": "code",
   "execution_count": 88,
   "metadata": {},
   "outputs": [
    {
     "name": "stdout",
     "output_type": "stream",
     "text": [
      "http://www.example.com/test?p=1&q=2\n",
      "protocol: http\n",
      "host: www.example.com\n",
      "others: test?p=1&q=2\n"
     ]
    }
   ],
   "source": [
    "word = input()\n",
    "print('protocol: {}' .format(word[:4]))\n",
    "print('host: {}' .format(word[7:22]))\n",
    "print('others: {}' .format(word[23:]))"
   ]
  },
  {
   "cell_type": "code",
   "execution_count": 91,
   "metadata": {
    "scrolled": true
   },
   "outputs": [
    {
     "name": "stdout",
     "output_type": "stream",
     "text": [
      "d\n",
      ">> D\n",
      "d\n",
      ">> D\n",
      "d\n",
      ">> D\n"
     ]
    }
   ],
   "source": [
    "for i in range(3):\n",
    "    word = input()\n",
    "    print(f'>> {word.upper()}')"
   ]
  },
  {
   "cell_type": "code",
   "execution_count": 108,
   "metadata": {},
   "outputs": [
    {
     "name": "stdout",
     "output_type": "stream",
     "text": [
      "산 하늘 강 바다 하늘 강 들\n",
      "강,들,바다,산,하늘\n"
     ]
    }
   ],
   "source": [
    "word = list(set(input().split()))\n",
    "new_word = sorted(word)\n",
    "for i in new_word:\n",
    "    if i != new_word[-1]:\n",
    "        print(i, end=',')\n",
    "    else:\n",
    "        print(i)"
   ]
  },
  {
   "cell_type": "code",
   "execution_count": 110,
   "metadata": {},
   "outputs": [
    {
     "name": "stdout",
     "output_type": "stream",
     "text": [
      "H1e2l3l4o5w6o7r8l9d\n",
      "Helloworld"
     ]
    }
   ],
   "source": [
    "word = input()\n",
    "for i in range(len(word)):\n",
    "    if not i%2:\n",
    "        print(word[i], end=\"\")"
   ]
  },
  {
   "cell_type": "code",
   "execution_count": 124,
   "metadata": {},
   "outputs": [
    {
     "name": "stdout",
     "output_type": "stream",
     "text": [
      "12, 34, 56, 78\n",
      "[12, 34, 56, 78]\n",
      "(12, 34, 56, 78)\n"
     ]
    }
   ],
   "source": [
    "num = map(int,input().split(', '))\n",
    "a = list(num)\n",
    "print(a)\n",
    "print(tuple(a))"
   ]
  },
  {
   "cell_type": "code",
   "execution_count": 129,
   "metadata": {},
   "outputs": [
    {
     "name": "stdout",
     "output_type": "stream",
     "text": [
      "2, 3, 4, 5\n",
      "12.57, 18.85, 25.13, 31.42\n"
     ]
    }
   ],
   "source": [
    "import math\n",
    "num = tuple(list(map(int, input().split(', '))))\n",
    "for i in num:\n",
    "    if i != num[-1]:\n",
    "        print(round(2*i*math.pi,2) ,end=\", \")\n",
    "    else:\n",
    "        print(round(2*i*math.pi,2))"
   ]
  },
  {
   "cell_type": "code",
   "execution_count": 191,
   "metadata": {},
   "outputs": [
    {
     "name": "stdout",
     "output_type": "stream",
     "text": [
      "3, 5\n",
      "[[0, 0, 0, 0, 0], [0, 1, 2, 3, 0], [0, 2, 4, 0, 0]]\n"
     ]
    }
   ],
   "source": [
    "i, j = map(int,input().split(', '))\n",
    "arr = [[0]*j for k in range(i)]\n",
    "\n",
    "for i in range(i):\n",
    "    for j in range(j):\n",
    "        if i >0 and j>0:\n",
    "            arr[i][j] = i*j\n",
    "            \n",
    "print(arr)"
   ]
  },
  {
   "cell_type": "code",
   "execution_count": 194,
   "metadata": {},
   "outputs": [
    {
     "name": "stdout",
     "output_type": "stream",
     "text": [
      "3, 5\n",
      "[[0, 0, 0, 0, 0], [0, 1, 2, 3, 4], [0, 2, 4, 6, 8]]\n"
     ]
    }
   ],
   "source": [
    "i, j = map(int,input().split(', '))\n",
    "arr = [[0 for x in range(j)] for y in range(i)]\n",
    "\n",
    "for i in range(len(arr)):\n",
    "    for j in range(len(arr[i])):\n",
    "        if i >0 and j>0:\n",
    "            arr[i][j] = i*j\n",
    "            \n",
    "print(arr)"
   ]
  },
  {
   "cell_type": "code",
   "execution_count": 199,
   "metadata": {
    "scrolled": true
   },
   "outputs": [
    {
     "name": "stdout",
     "output_type": "stream",
     "text": [
      "python, hello, world, hi\n",
      "hello, hi, python, world\n"
     ]
    }
   ],
   "source": [
    "word = list(input().split(', '))\n",
    "word.sort()\n",
    "for i in word:\n",
    "    if i != word[-1]:\n",
    "        print(i, end=\", \")\n",
    "    else:\n",
    "        print(i)"
   ]
  },
  {
   "cell_type": "code",
   "execution_count": 201,
   "metadata": {},
   "outputs": [
    {
     "name": "stdout",
     "output_type": "stream",
     "text": [
      "1, 2, 3, 4, 5\n",
      "1, 3, 5\n"
     ]
    }
   ],
   "source": [
    "num = list(map(int, input().split(', ')))\n",
    "for i in num:\n",
    "    if i % 2:\n",
    "        if i != num[-1]:\n",
    "            print(i, end=\", \")\n",
    "        else:\n",
    "            print(i)"
   ]
  },
  {
   "cell_type": "code",
   "execution_count": 206,
   "metadata": {},
   "outputs": [
    {
     "name": "stdout",
     "output_type": "stream",
     "text": [
      "(1, 2, 3, 4, 5)\n",
      "(6, 7, 8, 9, 10)\n"
     ]
    }
   ],
   "source": [
    "tu = (1,2,3,4,5,6,7,8,9,10)\n",
    "print(tu[0:len(tu)//2])\n",
    "print(tu[len(tu)//2:])"
   ]
  },
  {
   "cell_type": "code",
   "execution_count": 209,
   "metadata": {},
   "outputs": [
    {
     "name": "stdout",
     "output_type": "stream",
     "text": [
      "[5, 77, 45]\n"
     ]
    }
   ],
   "source": [
    "arr =  [5, 6, 77, 45, 22, 12, 24]\n",
    "arr = [i for i in arr if i%2]\n",
    "print(arr)"
   ]
  },
  {
   "cell_type": "code",
   "execution_count": 212,
   "metadata": {},
   "outputs": [
    {
     "name": "stdout",
     "output_type": "stream",
     "text": [
      "[24, 70, 120]\n"
     ]
    }
   ],
   "source": [
    "arr = [12, 24, 35, 70, 88, 120, 155]\n",
    "arr = [arr[i] for i in range(len(arr)) if i%2]\n",
    "print(arr)"
   ]
  },
  {
   "cell_type": "code",
   "execution_count": 214,
   "metadata": {},
   "outputs": [
    {
     "name": "stdout",
     "output_type": "stream",
     "text": [
      "[[[0, 0, 0, 0], [0, 0, 0, 0], [0, 0, 0, 0]], [[0, 0, 0, 0], [0, 0, 0, 0], [0, 0, 0, 0]]]\n"
     ]
    }
   ],
   "source": [
    "arr = [[[0 for x in range(4)] for y in range(3)] for z in range(2)]\n",
    "print(arr)"
   ]
  },
  {
   "cell_type": "code",
   "execution_count": 228,
   "metadata": {},
   "outputs": [
    {
     "name": "stdout",
     "output_type": "stream",
     "text": [
      "[24, 35, 70, 155]\n"
     ]
    }
   ],
   "source": [
    "arr = [12, 24, 35, 70, 88, 120, 155]\n",
    "\n",
    "arr = [arr[i] for i in range(len(arr)) if 0<i<4 or i>5]\n",
    "print(arr)"
   ]
  },
  {
   "cell_type": "code",
   "execution_count": 231,
   "metadata": {},
   "outputs": [
    {
     "name": "stdout",
     "output_type": "stream",
     "text": [
      "[35]\n"
     ]
    }
   ],
   "source": [
    "arr1 = [1,3,6,78,35,55]\n",
    "arr2 = [12,24,35,24,88,120,155]\n",
    "\n",
    "sub = []\n",
    "for i in arr2:\n",
    "    if i in arr1:\n",
    "        sub.append(i)\n",
    "print(sub)\n",
    "    "
   ]
  },
  {
   "cell_type": "code",
   "execution_count": 235,
   "metadata": {},
   "outputs": [
    {
     "name": "stdout",
     "output_type": "stream",
     "text": [
      "[12, 24, 35, 88, 120, 155]\n"
     ]
    }
   ],
   "source": [
    "arr = [12,24,35,24,88,120,155,88,120,155]\n",
    "print(sorted(list(set(arr))))"
   ]
  },
  {
   "cell_type": "code",
   "execution_count": 246,
   "metadata": {},
   "outputs": [
    {
     "name": "stdout",
     "output_type": "stream",
     "text": [
      "이순신\n",
      "아래 학생들의 전화번호를 조회할 수 있습니다.\n",
      "홍길동\n",
      "이순신\n",
      "강감찬\n",
      "전화번호를 조회하고자 하는 학생의 이름을 입력하십시오.\n",
      "이순신의 전화번호는 010-1111-2222입니다.\n"
     ]
    }
   ],
   "source": [
    "phone = {\n",
    "    '홍길동': '010-1111-1111',\n",
    "    '이순신': '010-1111-2222',\n",
    "    '강감찬': '010-1111-3333',\n",
    "}\n",
    "num = input()\n",
    "print(\"아래 학생들의 전화번호를 조회할 수 있습니다.\")\n",
    "for key, value in phone.items():\n",
    "    print(key)\n",
    "if num in phone.keys():\n",
    "    print(\"전화번호를 조회하고자 하는 학생의 이름을 입력하십시오.\")\n",
    "    print(f\"{num}의 전화번호는 {phone[num]}입니다.\")"
   ]
  },
  {
   "cell_type": "code",
   "execution_count": 241,
   "metadata": {},
   "outputs": [
    {
     "name": "stdout",
     "output_type": "stream",
     "text": [
      "홍길동\n",
      "이순신\n",
      "강감찬\n"
     ]
    }
   ],
   "source": [
    "phone = {\n",
    "    '홍길동': '010-1111-1111',\n",
    "    '이순신': '010-1111-2222',\n",
    "    '강감찬': '010-1111-3333',\n",
    "}\n",
    "for key, value in phone.items():\n",
    "    print(key)"
   ]
  },
  {
   "cell_type": "code",
   "execution_count": 258,
   "metadata": {},
   "outputs": [
    {
     "name": "stdout",
     "output_type": "stream",
     "text": [
      "[('TV', 2000000), ('냉장고', 1500000), ('노트북', 1200000), ('세탁기', 1000000), ('책상', 350000), ('가스레인지', 200000)]\n"
     ]
    }
   ],
   "source": [
    "import operator\n",
    "items = {\n",
    "    \"TV\": 2000000,\n",
    "    \"냉장고\": 1500000,\n",
    "    \"책상\": 350000,\n",
    "    \"노트북\": 1200000,\n",
    "    \"가스레인지\": 200000,\n",
    "    \"세탁기\": 1000000,\n",
    "}\n",
    "\n",
    "items = sorted(items.items(), key=operator.itemgetter(1))\n",
    "for i in items[::-1]:\n",
    "    \n",
    "print(items[::-1])\n"
   ]
  },
  {
   "cell_type": "code",
   "execution_count": 259,
   "metadata": {},
   "outputs": [
    {
     "ename": "TypeError",
     "evalue": "unsupported operand type(s) for +: 'dict' and 'dict'",
     "output_type": "error",
     "traceback": [
      "\u001b[1;31m---------------------------------------------------------------------------\u001b[0m",
      "\u001b[1;31mTypeError\u001b[0m                                 Traceback (most recent call last)",
      "\u001b[1;32m<ipython-input-259-6d172735f61e>\u001b[0m in \u001b[0;36m<module>\u001b[1;34m\u001b[0m\n\u001b[0;32m      1\u001b[0m \u001b[0ma\u001b[0m \u001b[1;33m=\u001b[0m \u001b[1;33m{\u001b[0m\u001b[1;34m'아메리카노'\u001b[0m\u001b[1;33m:\u001b[0m \u001b[1;36m1900\u001b[0m\u001b[1;33m,\u001b[0m \u001b[1;34m'카페모카'\u001b[0m\u001b[1;33m:\u001b[0m \u001b[1;36m3300\u001b[0m\u001b[1;33m,\u001b[0m \u001b[1;34m'에스프레소'\u001b[0m\u001b[1;33m:\u001b[0m \u001b[1;36m1900\u001b[0m\u001b[1;33m,\u001b[0m \u001b[1;34m'카페라떼'\u001b[0m\u001b[1;33m:\u001b[0m \u001b[1;36m2500\u001b[0m\u001b[1;33m,\u001b[0m \u001b[1;34m'카푸치노'\u001b[0m\u001b[1;33m:\u001b[0m \u001b[1;36m2500\u001b[0m\u001b[1;33m,\u001b[0m \u001b[1;34m'바닐라라떼'\u001b[0m\u001b[1;33m:\u001b[0m \u001b[1;36m2900\u001b[0m\u001b[1;33m}\u001b[0m\u001b[1;33m\u001b[0m\u001b[1;33m\u001b[0m\u001b[0m\n\u001b[0;32m      2\u001b[0m \u001b[0mb\u001b[0m \u001b[1;33m=\u001b[0m \u001b[1;33m{\u001b[0m\u001b[1;34m'헤이즐럿라떼'\u001b[0m\u001b[1;33m:\u001b[0m \u001b[1;36m2900\u001b[0m\u001b[1;33m,\u001b[0m \u001b[1;34m'카페모카'\u001b[0m\u001b[1;33m:\u001b[0m \u001b[1;36m3300\u001b[0m\u001b[1;33m,\u001b[0m \u001b[1;34m'밀크커피'\u001b[0m\u001b[1;33m:\u001b[0m \u001b[1;36m3300\u001b[0m\u001b[1;33m,\u001b[0m \u001b[1;34m'아메리카노'\u001b[0m\u001b[1;33m:\u001b[0m \u001b[1;36m1900\u001b[0m\u001b[1;33m,\u001b[0m \u001b[1;34m'샷크린티라떼'\u001b[0m\u001b[1;33m:\u001b[0m \u001b[1;36m3300\u001b[0m\u001b[1;33m}\u001b[0m\u001b[1;33m\u001b[0m\u001b[1;33m\u001b[0m\u001b[0m\n\u001b[1;32m----> 3\u001b[1;33m \u001b[0mprint\u001b[0m\u001b[1;33m(\u001b[0m\u001b[0ma\u001b[0m\u001b[1;33m+\u001b[0m\u001b[0mb\u001b[0m\u001b[1;33m)\u001b[0m\u001b[1;33m\u001b[0m\u001b[1;33m\u001b[0m\u001b[0m\n\u001b[0m",
      "\u001b[1;31mTypeError\u001b[0m: unsupported operand type(s) for +: 'dict' and 'dict'"
     ]
    }
   ],
   "source": [
    "a = {'아메리카노': 1900, '카페모카': 3300, '에스프레소': 1900, '카페라떼': 2500, '카푸치노': 2500, '바닐라라떼': 2900}\n",
    "b = {'헤이즐럿라떼': 2900, '카페모카': 3300, '밀크커피': 3300, '아메리카노': 1900, '샷크린티라떼': 3300}\n",
    "print(a+b)\n"
   ]
  },
  {
   "cell_type": "code",
   "execution_count": 263,
   "metadata": {},
   "outputs": [
    {
     "name": "stdout",
     "output_type": "stream",
     "text": [
      "3 4\n",
      "0 1 0 0\n",
      "0 0 0 0\n",
      "0 0 1 0\n",
      "[[0, 1], [2, 2]]\n"
     ]
    }
   ],
   "source": [
    "n, m = map(int, input().split())\n",
    "mylist = [list(map(int, input().split())) for x in range(n)]\n",
    "newlist = [[i,j] for i in range(n) for j in range(m) if mylist[i][j] == 1]\n",
    "print(newlist)"
   ]
  },
  {
   "cell_type": "code",
   "execution_count": null,
   "metadata": {},
   "outputs": [],
   "source": []
  },
  {
   "cell_type": "code",
   "execution_count": null,
   "metadata": {},
   "outputs": [],
   "source": []
  },
  {
   "cell_type": "code",
   "execution_count": null,
   "metadata": {},
   "outputs": [],
   "source": []
  },
  {
   "cell_type": "code",
   "execution_count": null,
   "metadata": {},
   "outputs": [],
   "source": []
  }
 ],
 "metadata": {
  "kernelspec": {
   "display_name": "Python 3",
   "language": "python",
   "name": "python3"
  },
  "language_info": {
   "codemirror_mode": {
    "name": "ipython",
    "version": 3
   },
   "file_extension": ".py",
   "mimetype": "text/x-python",
   "name": "python",
   "nbconvert_exporter": "python",
   "pygments_lexer": "ipython3",
   "version": "3.7.4"
  }
 },
 "nbformat": 4,
 "nbformat_minor": 2
}
